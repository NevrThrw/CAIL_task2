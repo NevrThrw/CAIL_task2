{
 "cells": [
  {
   "cell_type": "code",
   "execution_count": 9,
   "metadata": {},
   "outputs": [],
   "source": [
    "import warnings\n",
    "warnings.filterwarnings(\"ignore\")\n",
    "from sklearn.multioutput import ClassifierChain\n",
    "from sklearn.svm import SVC\n",
    "from gensim.models.doc2vec import Doc2Vec\n",
    "import re\n",
    "import jieba\n",
    "import numpy as np\n",
    "from sklearn.model_selection import train_test_split\n",
    "from sklearn.externals import joblib \n",
    "from sklearn.linear_model import LogisticRegression\n",
    "import random\n",
    "from sklearn import tree\n",
    "\n",
    "divorce_model=Doc2Vec.load(\"divorce/divorce.model\") #divorce的Doc2Vec模型\n",
    "loan_model=Doc2Vec.load(\"loan/loan.model\")#loan的Doc2Vec模型\n",
    "labor_model=Doc2Vec.load(\"labor/labor.model\")#labor的Doc2Vec模型\n",
    "\n",
    "data_input = {1: \"divorce/data.txt\", 2: \"labor/data.txt\", 3: \"loan/data.txt\"}\n",
    "models={1:divorce_model,2:loan_model,3:labor_model}\n",
    "data_type = {1: \"divorce\", 2: \"labor\", 3: \"loan\"}\n",
    "label_size = 20\n",
    "test_ratio = 0.3\n",
    "punction = \"！？。＂＃＄％＆＇（）＊＋，－／：；＜＝＞＠［＼］＾＿｀｛｜｝～｟｠｢｣､、〃》「」『』【】〔〕〖〗〘〙〚〛〜〝〞〟〰〾〿–—‘’‛“”„‟…‧﹏.\"\n",
    "\n",
    "def line_processing(line):  # 提取每行数据的文本内容\n",
    "    line = line.strip().split('\\t')\n",
    "    sentence = line[1]\n",
    "    sentence = re.sub(r'[{}]'.format(punction),' ',sentence).split(' ')\n",
    "    sent=[]\n",
    "    for sub_sentence in sentence:\n",
    "        if sub_sentence!='':\n",
    "            sent.extend(list(jieba.cut(sub_sentence)))\n",
    "    return line[0], sent, line[2]\n",
    "\n",
    "def constructDataSet(data_path,model_tag): #构建X，Y的数据集\n",
    "    data_file = open(data_path,'r',encoding='utf-8')\n",
    "    lines = data_file.read().splitlines()\n",
    "    X=[]\n",
    "    Y=[]\n",
    "    d2v = models[model_tag]\n",
    "    for line in lines:\n",
    "        _,x,y = line_processing(line)\n",
    "        x=d2v.infer_vector(x)\n",
    "        X.append(x)\n",
    "        y = list(map(int,y.split()))\n",
    "        Y.append(y)\n",
    "    Y = np.array(Y)\n",
    "    data_file.close()\n",
    "    return X,Y\n",
    "\n",
    "def splitDataSet(X,Y,modify=False,ratio=.2): #构建训练集和测试集\n",
    "    if modify: #调整正负样本比例\n",
    "        X_true=[]\n",
    "        X_false=[]\n",
    "        Y_true=[]\n",
    "        Y_false=[]\n",
    "        for i in range(len(Y)):\n",
    "            if Y[i]==1:\n",
    "                X_true.append(X[i])\n",
    "                Y_true.append(Y[i])\n",
    "            else:\n",
    "                X_false.append(X[i])\n",
    "                Y_false.append(Y[i])\n",
    "        true_num = len(X_true)\n",
    "        false_num = true_num*ration\n",
    "        for i in range(0,len(X_false),int(len(X_false)/false_num)):\n",
    "            X_true.append(X_false[i])\n",
    "            Y_true.append(Y_false[i])\n",
    "        X_train,X_test,Y_train,Y_test =  train_test_split(X_true,Y_true,test_size=test_ratio,shuffle=True)\n",
    "    else:\n",
    "        X_train,X_test,Y_train,Y_test =  train_test_split(X,Y,test_size=test_ratio,shuffle=True)\n",
    "    return X_train,X_test,Y_train,Y_test\n",
    "\n",
    "def beginTrain():\n",
    "    for i in range(1,4):\n",
    "        print(data_input[i].split(\"/\")[0])\n",
    "        X,Y = constructDataSet(data_input[i],i)\n",
    "        X_train,X_test,Y_train,Y_test = splitDataSet(X,Y)\n",
    "        base_classifier=LogisticRegression(solver='lbfgs')\n",
    "        chains = [ClassifierChain(base_classifier,order='random',random_state=j) for j in range(label_size**2)]\n",
    "        for chain in chains:\n",
    "            chain.fit(X_train,Y_train)\n",
    "        chain_predict = np.array([chain.predict(X_test) for chain in chains])\n",
    "        predict_label = chain_predict.mean(axis=0)\n",
    "        for o in range(len(predict_label)):\n",
    "            for j in range(len(predict_label[o])):\n",
    "                predict_label[o][j]= 1 if predict_label[o][j]>0 else 0\n",
    "        Y_test = Y_test.transpose()\n",
    "        predict_label = predict_label.transpose()\n",
    "        for j in range(label_size):\n",
    "            f1socre=f1_score(Y_test[j],predict_label[j],average='macro')\n",
    "            print(j+1,f1socre)"
   ]
  },
  {
   "cell_type": "code",
   "execution_count": 79,
   "metadata": {
    "scrolled": false
   },
   "outputs": [
    {
     "name": "stdout",
     "output_type": "stream",
     "text": [
      "divorce\n",
      "0.07626546143558602\n",
      "labor\n",
      "0.035617921432096654\n",
      "loan\n",
      "0.0737285926476192\n"
     ]
    }
   ],
   "source": [
    "beginTrain()#20个分类器，NB分类器"
   ]
  },
  {
   "cell_type": "code",
   "execution_count": 6,
   "metadata": {},
   "outputs": [
    {
     "name": "stdout",
     "output_type": "stream",
     "text": [
      "divorce\n",
      "1 0.4707119868231133\n",
      "2 0.4125705272336758\n",
      "3 0.09465622579812409\n",
      "4 0.2998749135189886\n",
      "5 0.04424055232558139\n",
      "6 0.05308938707689555\n",
      "7 0.09859901509279102\n",
      "8 0.3209122480763624\n",
      "9 0.16116064843053307\n",
      "10 0.3166234596010981\n",
      "11 0.010756505053346008\n",
      "12 0.14547543979306884\n",
      "13 0.01322952880996587\n",
      "14 0.008575197889182058\n",
      "15 0.005764505764505765\n",
      "16 0.13114890369376964\n",
      "17 0.06325855495853752\n",
      "18 0.01707450564673475\n",
      "19 0.28364978120720463\n",
      "20 0.006327918398186626\n",
      "labor\n",
      "1 0.06194690265486725\n",
      "2 0.04845338524767467\n",
      "3 0.045355902777777776\n",
      "4 0.03159053384700056\n",
      "5 0.03222967770322297\n",
      "6 0.03127064523232768\n",
      "7 0.04216040564212065\n",
      "8 0.024070992789794785\n",
      "9 0.021811928817026795\n",
      "10 0.1275057503666432\n",
      "11 0.40182463782129074\n",
      "12 0.12645385999209402\n",
      "13 0.3298674446047271\n",
      "14 0.1288359062216717\n",
      "15 0.27802160080659033\n",
      "16 0.00668850161494771\n",
      "17 0.49997158283603294\n",
      "18 0.13853126921318515\n",
      "19 0.189754724298761\n",
      "20 0.2621778337450883\n",
      "loan\n",
      "1 0.10817451228438857\n",
      "2 0.07560868050729525\n",
      "3 0.0735531846104106\n",
      "4 0.07400226207788012\n",
      "5 0.07728224118499437\n",
      "6 0.06539465101108938\n",
      "7 0.05272727272727273\n",
      "8 0.061833829202071894\n",
      "9 0.06681109252532377\n",
      "10 0.04816475668493606\n",
      "11 0.00521094276667855\n",
      "12 0.1359909340416246\n",
      "13 0.199336316626793\n",
      "14 0.30142130294992675\n",
      "15 0.0736054675190752\n",
      "16 0.10596779950431125\n",
      "17 0.2921499662648552\n",
      "18 0.23980241949659228\n",
      "19 0.036444812309033695\n",
      "20 0.4600757102163289\n"
     ]
    }
   ],
   "source": [
    "beginTrain()#20个分类器，NB分类器,单个标签评判"
   ]
  },
  {
   "cell_type": "code",
   "execution_count": 81,
   "metadata": {
    "scrolled": true
   },
   "outputs": [
    {
     "name": "stdout",
     "output_type": "stream",
     "text": [
      "divorce\n",
      "0.07200562236679031\n",
      "labor\n",
      "0.03570615518887404\n",
      "loan\n",
      "0.07031495819423016\n"
     ]
    }
   ],
   "source": [
    "beginTrain()#400个分类器，NB分类器"
   ]
  },
  {
   "cell_type": "code",
   "execution_count": null,
   "metadata": {},
   "outputs": [],
   "source": []
  },
  {
   "cell_type": "code",
   "execution_count": 2,
   "metadata": {
    "scrolled": true
   },
   "outputs": [
    {
     "name": "stderr",
     "output_type": "stream",
     "text": [
      "Building prefix dict from the default dictionary ...\n",
      "Loading model from cache C:\\Users\\RPJ\\AppData\\Local\\Temp\\jieba.cache\n"
     ]
    },
    {
     "name": "stdout",
     "output_type": "stream",
     "text": [
      "divorce\n"
     ]
    },
    {
     "name": "stderr",
     "output_type": "stream",
     "text": [
      "Loading model cost 0.802 seconds.\n",
      "Prefix dict has been built succesfully.\n"
     ]
    },
    {
     "name": "stdout",
     "output_type": "stream",
     "text": [
      "0.06466324685235987\n",
      "labor\n",
      "0.10627038221481713\n",
      "loan\n",
      "0.21205181405585583\n"
     ]
    }
   ],
   "source": [
    "beginTrain()#20个分类器，logisticsRegression分类器"
   ]
  },
  {
   "cell_type": "code",
   "execution_count": 8,
   "metadata": {},
   "outputs": [
    {
     "name": "stdout",
     "output_type": "stream",
     "text": [
      "divorce\n",
      "1 0.5532116628033876\n",
      "2 0.5826709602816835\n",
      "3 0.5691591287585157\n",
      "4 0.5612353208671629\n",
      "5 0.5987122370246376\n",
      "6 0.4976117373381455\n",
      "7 0.5130593151200737\n",
      "8 0.5635524446229719\n",
      "9 0.4981907721478984\n",
      "10 0.5371917821250947\n",
      "11 0.49718027145861216\n",
      "12 0.5019167764930602\n",
      "13 0.5240951928926556\n",
      "14 0.497324414715719\n",
      "15 0.49876131491186276\n",
      "16 0.49840286054827176\n",
      "17 0.4990477097419293\n",
      "18 0.4985224022878932\n",
      "19 0.4982593352091182\n",
      "20 0.49833110814419224\n",
      "labor\n",
      "1 0.6591267905337903\n",
      "2 0.5386840871517753\n",
      "3 0.6804379410543794\n",
      "4 0.5352824523685966\n",
      "5 0.5688013428715875\n",
      "6 0.623272721478948\n",
      "7 0.5897410495371109\n",
      "8 0.5225792781246124\n",
      "9 0.6362508785711333\n",
      "10 0.5815526417214035\n",
      "11 0.4997441291863308\n",
      "12 0.49957340310562537\n",
      "13 0.49980101199613397\n",
      "14 0.4998294485503127\n",
      "15 0.49977257220832383\n",
      "16 0.49968723343758886\n",
      "17 1.0\n",
      "18 0.4997156829296031\n",
      "19 0.4998294485503127\n",
      "20 0.4998578818714115\n",
      "loan\n",
      "1 0.7463625354224475\n",
      "2 0.6764056726004124\n",
      "3 0.7000095205072077\n",
      "4 0.6522484341656081\n",
      "5 0.6678894000275708\n",
      "6 0.6095591718276812\n",
      "7 0.6922298538740861\n",
      "8 0.7487705773323149\n",
      "9 0.6995002124843348\n",
      "10 0.75576496912151\n",
      "11 0.49860017497812775\n",
      "12 0.4997817927904338\n",
      "13 0.49951969260326606\n",
      "14 0.49951969260326606\n",
      "15 0.4992573176059415\n",
      "16 0.4996070898454553\n",
      "17 0.49982544946762086\n",
      "18 0.49934480649951957\n",
      "19 0.4996070898454553\n",
      "20 0.49982544946762086\n"
     ]
    }
   ],
   "source": [
    "beginTrain()#20个分类器，logisticsRegression分类器，单标签评判"
   ]
  },
  {
   "cell_type": "code",
   "execution_count": 4,
   "metadata": {
    "scrolled": true
   },
   "outputs": [
    {
     "name": "stdout",
     "output_type": "stream",
     "text": [
      "divorce\n",
      "0.08408771975212033\n",
      "labor\n",
      "0.10651358783314406\n",
      "loan\n",
      "0.2230398707901286\n"
     ]
    }
   ],
   "source": [
    "beginTrain()#400个分类器，logisticsRegression分类器"
   ]
  },
  {
   "cell_type": "code",
   "execution_count": 10,
   "metadata": {},
   "outputs": [
    {
     "name": "stdout",
     "output_type": "stream",
     "text": [
      "divorce\n",
      "1 0.5844701163354225\n",
      "2 0.6057946420682251\n",
      "3 0.5636235908309304\n",
      "4 0.5784833041337025\n",
      "5 0.6083954383483497\n",
      "6 0.5015242830724086\n",
      "7 0.5151864946753857\n",
      "8 0.5792959061938732\n",
      "9 0.49497778636275835\n",
      "10 0.5315150840476456\n",
      "11 0.4969639015060961\n",
      "12 0.4960482827992527\n",
      "13 0.5103008506576602\n",
      "14 0.49768441155407017\n",
      "15 0.49840286054827176\n",
      "16 0.4981875417342364\n",
      "17 0.4991669443518827\n",
      "18 0.49902385600685684\n",
      "19 0.4986418870621873\n",
      "20 0.4984267734553776\n",
      "labor\n",
      "1 0.6453634504153427\n",
      "2 0.5457634616342241\n",
      "3 0.677925679960636\n",
      "4 0.547594044758508\n",
      "5 0.5888095974833037\n",
      "6 0.6305749354005168\n",
      "7 0.5809478447249344\n",
      "8 0.5384357932966071\n",
      "9 0.645251572113491\n",
      "10 0.6033558477327126\n",
      "11 0.49965878070973613\n",
      "12 0.4992886005349723\n",
      "13 0.4998294485503127\n",
      "14 0.4998294485503127\n",
      "15 0.4998578818714115\n",
      "16 0.49968723343758886\n",
      "17 0.49997158283603294\n",
      "18 0.4997441291863308\n",
      "19 0.4998578818714115\n",
      "20 0.4996303247454928\n",
      "loan\n",
      "1 0.7375897977070851\n",
      "2 0.6743951534914667\n",
      "3 0.7087260753777211\n",
      "4 0.6578843043719764\n",
      "5 0.7014773291785213\n",
      "6 0.6256245717818887\n",
      "7 0.6977069690011013\n",
      "8 0.7421737536656892\n",
      "9 0.7348731242363707\n",
      "10 0.7767149259312294\n",
      "11 0.49864403814189484\n",
      "12 0.49956339504016767\n",
      "13 0.49956339504016767\n",
      "14 0.4996070898454553\n",
      "15 0.49956339504016767\n",
      "16 0.499650777021128\n",
      "17 0.49982544946762086\n",
      "18 0.49956339504016767\n",
      "19 0.49991273996509594\n",
      "20 0.49991273996509594\n"
     ]
    }
   ],
   "source": [
    "beginTrain()#400个分类器，logisticsRegression分类器，单标签评判"
   ]
  }
 ],
 "metadata": {
  "kernelspec": {
   "display_name": "Python 3",
   "language": "python",
   "name": "python3"
  },
  "language_info": {
   "codemirror_mode": {
    "name": "ipython",
    "version": 3
   },
   "file_extension": ".py",
   "mimetype": "text/x-python",
   "name": "python",
   "nbconvert_exporter": "python",
   "pygments_lexer": "ipython3",
   "version": "3.6.8"
  }
 },
 "nbformat": 4,
 "nbformat_minor": 2
}
