{
 "cells": [
  {
   "cell_type": "code",
   "execution_count": 29,
   "metadata": {
    "pycharm": {}
   },
   "outputs": [],
   "source": [
    "import warnings\n",
    "warnings.filterwarnings(\"ignore\")\n",
    "from sklearn.svm import SVC\n",
    "from gensim.models.doc2vec import Doc2Vec\n",
    "import re\n",
    "import jieba\n",
    "import numpy as np\n",
    "from sklearn.model_selection import train_test_split\n",
    "from sklearn.externals import joblib \n",
    "from sklearn.metrics import f1_score\n",
    "import random"
   ]
  },
  {
   "cell_type": "code",
   "execution_count": 30,
   "metadata": {
    "pycharm": {
     "is_executing": false
    }
   },
   "outputs": [],
   "source": [
    "divorce_model=Doc2Vec.load(\"divorce/divorce.model\") #divorce的Doc2Vec模型\n",
    "loan_model=Doc2Vec.load(\"loan/loan.model\")#loan的Doc2Vec模型\n",
    "labor_model=Doc2Vec.load(\"labor/labor.model\")#labor的Doc2Vec模型"
   ]
  },
  {
   "cell_type": "code",
   "execution_count": 31,
   "metadata": {
    "pycharm": {
     "is_executing": true
    }
   },
   "outputs": [],
   "source": [
    "data_input = {1: \"divorce/data.txt\", 2: \"labor/data.txt\", 3: \"loan/data.txt\"}\n",
    "models={1:divorce_model,2:loan_model,3:labor_model}\n",
    "data_type = {1: \"divorce\", 2: \"labor\", 3: \"loan\"}\n",
    "label_size = 20\n",
    "test_ratio = 0.3\n",
    "punction = \"！？。＂＃＄％＆＇（）＊＋，－／：；＜＝＞＠［＼］＾＿｀｛｜｝～｟｠｢｣､、〃》「」『』【】〔〕〖〗〘〙〚〛〜〝〞〟〰〾〿–—‘’‛“”„‟…‧﹏.\""
   ]
  },
  {
   "cell_type": "code",
   "execution_count": 32,
   "metadata": {
    "pycharm": {}
   },
   "outputs": [],
   "source": [
    "def line_processing(line):  # 提取每行数据的文本内容\n",
    "    line = line.strip().split('\\t')\n",
    "    sentence = line[1]\n",
    "    sentence = re.sub(r'[{}]'.format(punction),' ',sentence).split(' ')\n",
    "    sent=[]\n",
    "    for sub_sentence in sentence:\n",
    "        if sub_sentence!='':\n",
    "            sent.extend(list(jieba.cut(sub_sentence)))\n",
    "    return line[0], sent, line[2]"
   ]
  },
  {
   "cell_type": "code",
   "execution_count": 33,
   "metadata": {
    "pycharm": {}
   },
   "outputs": [],
   "source": [
    "def constructDataSet(data_path,model_tag): #构建X，Y的数据集\n",
    "    data_file = open(data_path,'r',encoding='utf-8')\n",
    "    lines = data_file.read().splitlines()\n",
    "    X=[]\n",
    "    Y=[]\n",
    "    d2v = models[model_tag]\n",
    "    for line in lines:\n",
    "        _,x,y = line_processing(line)\n",
    "        x=d2v.infer_vector(x)\n",
    "        X.append(x)\n",
    "        y = list(map(int,y.split()))\n",
    "        Y.append(y)\n",
    "    Y = np.array(Y).transpose()\n",
    "    data_file.close()\n",
    "    return X,Y[:10]"
   ]
  },
  {
   "cell_type": "code",
   "execution_count": 34,
   "metadata": {
    "pycharm": {}
   },
   "outputs": [],
   "source": [
    "def splitDataSet(X,Y,modify=False,ratio=.2): #构建训练集和测试集\n",
    "    if modify: #调整正负样本比例\n",
    "        X_true=[]\n",
    "        X_false=[]\n",
    "        Y_true=[]\n",
    "        Y_false=[]\n",
    "        for i in range(len(Y)):\n",
    "            if Y[i]==1:\n",
    "                X_true.append(X[i])\n",
    "                Y_true.append(Y[i])\n",
    "            else:\n",
    "                X_false.append(X[i])\n",
    "                Y_false.append(Y[i])\n",
    "        true_num = len(X_true)\n",
    "        false_num = true_num*ration\n",
    "        for i in range(0,len(X_false),int(len(X_false)/false_num)):\n",
    "            X_true.append(X_false[i])\n",
    "            Y_true.append(Y_false[i])\n",
    "        X_train,X_test,Y_train,Y_test =  train_test_split(X_true,Y_true,test_size=test_ratio,shuffle=True)\n",
    "    else:\n",
    "        X_train,X_test,Y_train,Y_test =  train_test_split(X,Y,test_size=test_ratio,shuffle=True)\n",
    "    return X_train,X_test,Y_train,Y_test"
   ]
  },
  {
   "cell_type": "code",
   "execution_count": 35,
   "metadata": {
    "pycharm": {}
   },
   "outputs": [],
   "source": [
    "def trainSVM(X,Y,model_path): #训练单个分类器\n",
    "    X_train,X_test,Y_train,Y_test = splitDataSet(X,Y)\n",
    "    classifier = SVC(gamma='auto')\n",
    "    classifier.fit(X_train,Y_train)\n",
    "    #accuracy = classifier.score(X_test,Y_test)\n",
    "    Y_predict = classifier.predict(X_test)\n",
    "    f1score =  f1_score(Y_test,Y_predict,average='macro')\n",
    "    joblib.dump(classifier,model_path)\n",
    "    print(model_path,f1score)"
   ]
  },
  {
   "cell_type": "code",
   "execution_count": 36,
   "metadata": {
    "pycharm": {}
   },
   "outputs": [],
   "source": [
    "def beginTrain():\n",
    "    for i in range(1,4):\n",
    "        print(data_input[i].split(\"/\")[0])\n",
    "        X,Y = constructDataSet(data_input[i],i)\n",
    "        tag = list(range(len(Y)))\n",
    "        #random.shuffle(tag)\n",
    "        for j in tag:\n",
    "            model_path = data_input[i].split(\"/\")[0]+'/label'+str(j+1)+\".model\"\n",
    "            trainSVM(X,Y[j],model_path)"
   ]
  },
  {
   "cell_type": "code",
   "execution_count": 37,
   "metadata": {
    "pycharm": {}
   },
   "outputs": [],
   "source": [
    "def predictSingleLabel(x,model_type,label_tag):\n",
    "    model_path = model_type+'/'+'label'+str(label_tag+1)+'.model'\n",
    "    model = joblib.load(model_path)\n",
    "    return model.predict([x])"
   ]
  },
  {
   "cell_type": "code",
   "execution_count": 38,
   "metadata": {
    "pycharm": {}
   },
   "outputs": [],
   "source": [
    "def predict(text,model_type):\n",
    "    text = re.sub(r'[{}]'.format(punction),' ',text).split(' ')\n",
    "    words=[]\n",
    "    for word in text:\n",
    "        if word!='':\n",
    "            words.extend(list(jieba.cut(word)))\n",
    "    d2v = models[model_type]\n",
    "    x = d2v.infer_vector(words)\n",
    "    res=[]\n",
    "    for i in range(label_size):\n",
    "        res.append(predictSingleLabel(x,data_type[model_type],i)[0])\n",
    "    return res"
   ]
  },
  {
   "cell_type": "code",
   "execution_count": 39,
   "metadata": {},
   "outputs": [],
   "source": [
    "def evaluateModel(model_type):\n",
    "    data_file = open(data_input[model_type],'r',encoding='utf-8')\n",
    "    lines = data_file.read().splitlines()\n",
    "    f1score=0\n",
    "    gmean=0\n",
    "    for line in lines:\n",
    "        line = line.strip().split('\\t')\n",
    "        x = line[1]\n",
    "        y = list(map(int,line[2].split()))\n",
    "        predict_label = predict(x,model_type)\n",
    "        f1score+=f1_score(y,predict_label,average='macro')\n",
    "        gmean+=gmean(y,predict_label)\n",
    "    "
   ]
  },
  {
   "cell_type": "code",
   "execution_count": 40,
   "metadata": {},
   "outputs": [],
   "source": [
    "def evaluateLabel(model_type):\n",
    "    X,Y = constructDataSet(data_input[model_type],model_type)\n",
    "    for i in range(len(Y)):\n",
    "        model_path = data_type[model_type]+'/'+'label'+str(i+1)+'.model'\n",
    "        model = joblib.load(model_path)\n",
    "        y = []\n",
    "        for vec in X:\n",
    "            y.append(model.predict([vec]))\n",
    "        f1score = f1_score(Y[i],y,average='macro')\n",
    "        print(data_type[model_type],'label ',i+1,f1score)"
   ]
  },
  {
   "cell_type": "code",
   "execution_count": 59,
   "metadata": {},
   "outputs": [
    {
     "name": "stdout",
     "output_type": "stream",
     "text": [
      "divorce\n",
      "divorce/label1.model 0.43950775131852327\n",
      "divorce/label2.model 0.46313211205796806\n",
      "divorce/label3.model 0.473634180508305\n",
      "divorce/label4.model 0.48632946001367056\n",
      "divorce/label5.model 0.4888748542557326\n",
      "divorce/label6.model 0.4908536585365854\n",
      "divorce/label7.model 0.4908536585365854\n",
      "divorce/label8.model 0.49225423483422615\n",
      "divorce/label9.model 0.4916408967916505\n",
      "divorce/label10.model 0.4940367413677022\n",
      "divorce/label11.model 0.49754047471225943\n",
      "divorce/label12.model 0.49616894933435496\n",
      "divorce/label13.model 0.49689173680183624\n",
      "divorce/label14.model 0.49763644177051997\n",
      "divorce/label15.model 0.4987851936544233\n",
      "divorce/label16.model 0.4984984984984985\n",
      "divorce/label17.model 0.4990954103980194\n",
      "divorce/label18.model 0.4988806858775899\n",
      "divorce/label19.model 0.4982114751752754\n",
      "divorce/label20.model 0.4984984984984985\n",
      "labor\n",
      "labor/label1.model 0.4803614671312976\n",
      "labor/label2.model 0.4867277288372907\n",
      "labor/label3.model 0.488012104283054\n",
      "labor/label4.model 0.4906501476292479\n",
      "labor/label5.model 0.4915920254261774\n",
      "labor/label6.model 0.49176823984749585\n",
      "labor/label7.model 0.4924718777040669\n",
      "labor/label8.model 0.4932611450293745\n",
      "labor/label9.model 0.49419340002299644\n",
      "labor/label10.model 0.495643201100665\n",
      "labor/label11.model 0.49968723343758886\n",
      "labor/label12.model 0.4993455869800262\n",
      "labor/label13.model 0.49977257220832383\n",
      "labor/label14.model 0.49977257220832383\n",
      "labor/label15.model 0.49977257220832383\n",
      "labor/label16.model 0.4996587807097361\n",
      "labor/label17.model 0.49997158283603294\n",
      "labor/label18.model 0.49980101199613397\n",
      "labor/label19.model 0.49988631195998184\n",
      "labor/label20.model 0.4998294485503127\n",
      "loan\n",
      "loan/label1.model 0.6696549628968101\n",
      "loan/label2.model 0.4790947100527177\n",
      "loan/label3.model 0.48543163113967486\n",
      "loan/label4.model 0.47942592424380054\n",
      "loan/label5.model 0.47904735933096987\n",
      "loan/label6.model 0.4822477188544584\n",
      "loan/label7.model 0.4848539325842697\n",
      "loan/label8.model 0.5883377140001255\n",
      "loan/label9.model 0.5390092747925418\n",
      "loan/label10.model 0.6813808533719038\n",
      "loan/label11.model 0.498907056046166\n",
      "loan/label12.model 0.4994759825327511\n",
      "loan/label13.model 0.4994759825327511\n",
      "loan/label14.model 0.499650777021128\n",
      "loan/label15.model 0.4996070898454553\n",
      "loan/label16.model 0.49956339504016767\n",
      "loan/label17.model 0.49986909852517675\n",
      "loan/label18.model 0.49951969260326606\n",
      "loan/label19.model 0.4997817927904338\n",
      "loan/label20.model 0.49991273996509594\n"
     ]
    }
   ],
   "source": [
    "beginTrain()"
   ]
  },
  {
   "cell_type": "code",
   "execution_count": 14,
   "metadata": {},
   "outputs": [
    {
     "name": "stdout",
     "output_type": "stream",
     "text": [
      "divorce\n",
      "label1 7524 35067 0.21456069809222345\n",
      "label2 4842 35067 0.13807853537513903\n",
      "label3 3671 35067 0.10468531667949925\n",
      "label4 1885 35067 0.053754241879830036\n",
      "label5 1563 35067 0.04457181965950894\n",
      "label6 1283 35067 0.03658710468531668\n",
      "label7 1161 35067 0.03310805030370434\n",
      "label8 1117 35067 0.03185330937918841\n",
      "label9 1103 35067 0.0314540736304788\n",
      "label10 916 35067 0.02612142470128611\n",
      "label11 382 35067 0.010893432571933728\n",
      "label12 549 35067 0.01565574471725554\n",
      "label13 476 35067 0.013574015456126843\n",
      "label14 323 35067 0.009210939059514643\n",
      "label15 199 35067 0.005674850999515214\n",
      "label16 213 35067 0.006074086748224827\n",
      "label17 130 35067 0.0037071890951606923\n",
      "label18 179 35067 0.0051045142156443376\n",
      "label19 220 35067 0.006273704622579633\n",
      "label20 208 35067 0.005931502552257108\n",
      "15950 35067 0.4548435851370234\n",
      "labor\n",
      "label1 2104 29326 0.0717452090295301\n",
      "label2 1495 29326 0.05097865375434768\n",
      "label3 1471 29326 0.050160267339562165\n",
      "label4 1046 29326 0.03566800791106867\n",
      "label5 965 29326 0.03290595376116756\n",
      "label6 942 29326 0.032121666780331445\n",
      "label7 848 29326 0.028916319989088182\n",
      "label8 830 29326 0.028302530177999045\n",
      "label9 590 29326 0.020118666030143898\n",
      "label10 470 29326 0.016026733956216326\n",
      "label11 28 29326 0.0009547841505831003\n",
      "label12 62 29326 0.0021141649048625794\n",
      "label13 30 29326 0.0010229830184818932\n",
      "label14 21 29326 0.0007160881129373252\n",
      "label15 16 29326 0.0005455909431903431\n",
      "label16 37 29326 0.0012616790561276682\n",
      "label17 3 29326 0.00010229830184818932\n",
      "label18 38 29326 0.0012957784900770647\n",
      "label19 15 29326 0.0005114915092409466\n",
      "label20 26 29326 0.0008865852826843074\n",
      "8285 29326 0.2825138102707495\n",
      "loan\n",
      "label1 2141 19102 0.11208250444979584\n",
      "label2 1566 19102 0.08198094440372736\n",
      "label3 1614 19102 0.08449377028583395\n",
      "label4 1518 19102 0.07946811852162078\n",
      "label5 1598 19102 0.08365616165846508\n",
      "label6 1343 19102 0.07030677415977385\n",
      "label7 1150 19102 0.06020312009213695\n",
      "label8 1152 19102 0.06030782117055806\n",
      "label9 1327 19102 0.06946916553240498\n",
      "label10 1029 19102 0.05386870484765993\n",
      "label11 93 19102 0.00486860014658151\n",
      "label12 27 19102 0.0014134645586849545\n",
      "label13 32 19102 0.0016752172547377239\n",
      "label14 26 19102 0.0013611140194744007\n",
      "label15 49 19102 0.0025651764213171398\n",
      "label16 38 19102 0.001989320490001047\n",
      "label17 15 19102 0.0007852580881583081\n",
      "label18 33 19102 0.0017275677939482777\n",
      "label19 16 19102 0.0008376086273688619\n",
      "label20 12 19102 0.0006282064705266465\n",
      "7648 19102 0.400376923882316\n"
     ]
    }
   ],
   "source": [
    "for j in range(1,4):\n",
    "    X,Y = constructDataSet(data_input[j],j)\n",
    "    print(data_type[j])\n",
    "    for i in range(len(Y)):\n",
    "        print(\"label\"+str(i+1),np.sum(Y[i]),len(Y[i]),np.sum(Y[i])/len(Y[i]))\n",
    "    count=0\n",
    "    Y = Y.transpose()\n",
    "    for i in range(len(Y)):\n",
    "        if np.sum(Y[i])>0:\n",
    "            count+=1\n",
    "    print(count,len(Y),count/len(Y))"
   ]
  },
  {
   "cell_type": "code",
   "execution_count": 54,
   "metadata": {},
   "outputs": [
    {
     "name": "stdout",
     "output_type": "stream",
     "text": [
      "divorce label  1 0.43991375179683756\n",
      "divorce label  2 0.46292041904061754\n",
      "divorce label  3 0.4723831304635662\n",
      "divorce label  4 0.48619027385016633\n",
      "divorce label  5 0.4886030537690861\n",
      "divorce label  6 0.49068277875412125\n",
      "divorce label  7 0.49158366317254576\n",
      "divorce label  8 0.4919077908341423\n",
      "divorce label  9 0.4920108357114919\n",
      "divorce label  10 0.4933832240168742\n",
      "divorce label  11 0.49726172726230067\n",
      "divorce label  12 0.49605518430696277\n",
      "divorce label  13 0.4965833070142697\n",
      "divorce label  14 0.49768661099253697\n",
      "divorce label  15 0.4985772503038536\n",
      "divorce label  16 0.4984768524477625\n",
      "divorce label  17 0.4990714816296212\n",
      "divorce label  18 0.498720606103924\n",
      "divorce label  19 0.49842663844151386\n",
      "divorce label  20 0.49851271343992215\n",
      "labor label  1 0.48139633585626374\n",
      "labor label  2 0.486921986808265\n",
      "labor label  3 0.4871373358283346\n",
      "labor label  4 0.49092108460924205\n",
      "labor label  5 0.49163589716920625\n",
      "labor label  6 0.49183850285912317\n",
      "labor label  7 0.4926648674832192\n",
      "labor label  8 0.4928228010099962\n",
      "labor label  9 0.4949192242774965\n",
      "labor label  10 0.49596095012203084\n",
      "labor label  11 0.4997611899563319\n",
      "labor label  12 0.49947089947089945\n",
      "labor label  13 0.4997441233666542\n",
      "labor label  14 0.49982091385103444\n",
      "labor label  15 0.4998635650453646\n",
      "labor label  16 0.4996843811311098\n",
      "labor label  17 0.49997442411635323\n",
      "labor label  18 0.4996758453611765\n",
      "labor label  19 0.4998720944113785\n",
      "labor label  20 0.49977825538157133\n",
      "loan label  1 0.6684667095328766\n",
      "loan label  2 0.4786287461105955\n",
      "loan label  3 0.47920854318951084\n",
      "loan label  4 0.47931090879354527\n",
      "loan label  5 0.4888384255471132\n",
      "loan label  6 0.48178291419115055\n",
      "loan label  7 0.48536399230697863\n",
      "loan label  8 0.5256088185927165\n",
      "loan label  9 0.4977587464844184\n",
      "loan label  10 0.6561688717480989\n",
      "loan label  11 0.4987798798247225\n",
      "loan label  12 0.4996463839484506\n",
      "loan label  13 0.4995808445981348\n",
      "loan label  14 0.4996594897584997\n",
      "loan label  15 0.4993578823221072\n",
      "loan label  16 0.4995021747104753\n",
      "loan label  17 0.4998036083689021\n",
      "loan label  18 0.4995677346676796\n",
      "loan label  19 0.4997905101078873\n",
      "loan label  20 0.49984289903644746\n"
     ]
    }
   ],
   "source": [
    "for i in range(1,4):\n",
    "    evaluateLabel(i)"
   ]
  }
 ],
 "metadata": {
  "kernelspec": {
   "display_name": "Python 3",
   "language": "python",
   "name": "python3"
  },
  "language_info": {
   "codemirror_mode": {
    "name": "ipython",
    "version": 3
   },
   "file_extension": ".py",
   "mimetype": "text/x-python",
   "name": "python",
   "nbconvert_exporter": "python",
   "pygments_lexer": "ipython3",
   "version": "3.6.8"
  }
 },
 "nbformat": 4,
 "nbformat_minor": 2
}
