{
 "cells": [
  {
   "cell_type": "code",
   "execution_count": 1,
   "metadata": {},
   "outputs": [
    {
     "name": "stderr",
     "output_type": "stream",
     "text": [
      "/home/rpj/.local/lib/python3.6/site-packages/sklearn/externals/joblib/__init__.py:15: DeprecationWarning: sklearn.externals.joblib is deprecated in 0.21 and will be removed in 0.23. Please import this functionality directly from joblib, which can be installed with: pip install joblib. If this warning is raised when loading pickled models, you may need to re-serialize those models with scikit-learn 0.21+.\n",
      "  warnings.warn(msg, category=DeprecationWarning)\n"
     ]
    }
   ],
   "source": [
    "from sklearn.svm import SVC\n",
    "from gensim.models.doc2vec import Doc2Vec\n",
    "import re\n",
    "import jieba\n",
    "import numpy as np\n",
    "from sklearn.model_selection import train_test_split\n",
    "from sklearn.externals import joblib \n",
    "import random"
   ]
  },
  {
   "cell_type": "code",
   "execution_count": 2,
   "metadata": {},
   "outputs": [],
   "source": [
    "divorce_model=Doc2Vec.load(\"divorce/divorce.model\")\n",
    "loan_model=Doc2Vec.load(\"loan/loan.model\")\n",
    "labor_model=Doc2Vec.load(\"labor/labor.model\")"
   ]
  },
  {
   "cell_type": "code",
   "execution_count": 3,
   "metadata": {},
   "outputs": [],
   "source": [
    "data_input = {1: \"divorce/data.txt\", 2: \"labor/data.txt\", 3: \"loan/data.txt\"}\n",
    "models={1:divorce_model,2:loan_model,3:labor_model}\n",
    "data_type = {1: \"divorce\", 2: \"labor\", 3: \"loan\"}\n",
    "label_size = 20\n",
    "test_ratio = 0.3\n",
    "punction = \"！？。＂＃＄％＆＇（）＊＋，－／：；＜＝＞＠［＼］＾＿｀｛｜｝～｟｠｢｣､、〃》「」『』【】〔〕〖〗〘〙〚〛〜〝〞〟〰〾〿–—‘’‛“”„‟…‧﹏.\""
   ]
  },
  {
   "cell_type": "code",
   "execution_count": 11,
   "metadata": {},
   "outputs": [],
   "source": [
    "def line_processing(line):  # 提取每行数据的文本内容\n",
    "    line = line.strip().split('\\t')\n",
    "    sentence = line[1]\n",
    "    sentence = re.sub(r'[{}]'.format(punction),' ',sentence).split(' ')\n",
    "    sent=[]\n",
    "    for sub_sentence in sentence:\n",
    "        if sub_sentence!='':\n",
    "            sent.extend(list(jieba.cut(sub_sentence)))\n",
    "    return line[0], sent, line[2]"
   ]
  },
  {
   "cell_type": "code",
   "execution_count": 5,
   "metadata": {},
   "outputs": [],
   "source": [
    "def constructDataSet(data_path,model_tag): #构建X，Y的数据集\n",
    "    data_file = open(data_path,'r',encoding='utf-8')\n",
    "    lines = data_file.read().splitlines()\n",
    "    X=[]\n",
    "    Y=[]\n",
    "    d2v = models[model_tag]\n",
    "    for line in lines:\n",
    "        _,x,y = line_processing(line)\n",
    "        x=d2v.infer_vector(x)\n",
    "        X.append(x)\n",
    "        y = list(map(int,y.split()))\n",
    "        Y.append(y)\n",
    "    Y = np.array(Y).transpose()\n",
    "    data_file.close()\n",
    "    return X,Y"
   ]
  },
  {
   "cell_type": "code",
   "execution_count": 6,
   "metadata": {},
   "outputs": [],
   "source": [
    "def splitDataSet(X,Y): #构建训练集和测试集\n",
    "    X_train,X_test,Y_train,Y_test =  train_test_split(X,Y,test_size=test_ratio,shuffle=True)\n",
    "    return X_train,X_test,Y_train,Y_test"
   ]
  },
  {
   "cell_type": "code",
   "execution_count": 7,
   "metadata": {},
   "outputs": [],
   "source": [
    "def trainSVM(X,Y,model_path): #训练单个分类器\n",
    "    X_train,X_test,Y_train,Y_test = splitDataSet(X,Y)\n",
    "    classifier = SVC(gamma='auto')\n",
    "    classifier.fit(X_train,Y_train)\n",
    "    accuracy = classifier.score(X_test,Y_test)\n",
    "    joblib.dump(classifier,model_path)\n",
    "    print(model_path,accuracy)"
   ]
  },
  {
   "cell_type": "code",
   "execution_count": 8,
   "metadata": {},
   "outputs": [],
   "source": [
    "def beginTrain():\n",
    "    for i in range(1,4):\n",
    "        print(data_input[i].split(\"/\")[0])\n",
    "        X,Y = constructDataSet(data_input[i],i)\n",
    "        tag = list(range(len(Y)))\n",
    "        random.shuffle(tag)\n",
    "        for j in tag:\n",
    "            model_path = data_input[i].split(\"/\")[0]+'/'+str(j+1)+\".model\"\n",
    "            print(model_path)\n",
    "            trainSVM(X,Y[j],model_path)"
   ]
  },
  {
   "cell_type": "code",
   "execution_count": 9,
   "metadata": {},
   "outputs": [],
   "source": [
    "def predictSingleLabel(x,model_type,label_tag):\n",
    "    model_path = model_type+'/'+'label'+str(label_tag+1)+'.model'\n",
    "    model = joblib.load(model_path)\n",
    "    return model.predict([x])"
   ]
  },
  {
   "cell_type": "code",
   "execution_count": 10,
   "metadata": {},
   "outputs": [],
   "source": [
    "def predict(text,model_type):\n",
    "    text = re.sub(r'[{}]'.format(punction),' ',text).split(' ')\n",
    "    words=[]\n",
    "    for word in text:\n",
    "        words.extend(list(jieba.cut(word)))\n",
    "    d2v = models[model_type]\n",
    "    x = d2v.infer_vector(words)\n",
    "    res=[]\n",
    "    for i in range(label_size):\n",
    "        res.append(predictSingleLabel(x,data_type[model_type],i)[0])\n",
    "    return res"
   ]
  },
  {
   "cell_type": "code",
   "execution_count": 13,
   "metadata": {},
   "outputs": [
    {
     "name": "stdout",
     "output_type": "stream",
     "text": [
      "divorce\n",
      "0 7524 35067 0.21456069809225228\n",
      "1 4842 35067 0.13807853537513995\n",
      "2 3671 35067 0.10468531667949789\n",
      "3 1885 35067 0.05375424187983277\n",
      "4 1563 35067 0.044571819659510556\n",
      "5 1283 35067 0.036587104685317326\n",
      "6 1161 35067 0.03310805030370456\n",
      "7 1117 35067 0.03185330937918848\n",
      "8 1103 35067 0.03145407363047882\n",
      "9 916 35067 0.026121424701286106\n",
      "10 382 35067 0.010893432571933726\n",
      "11 549 35067 0.01565574471725554\n",
      "12 476 35067 0.013574015456126841\n",
      "13 323 35067 0.009210939059514643\n",
      "14 199 35067 0.005674850999515213\n",
      "15 213 35067 0.006074086748224826\n",
      "16 130 35067 0.003707189095160692\n",
      "17 179 35067 0.0051045142156443376\n",
      "18 220 35067 0.0062737046225796326\n",
      "19 208 35067 0.005931502552257107\n",
      "\n",
      "15950 35067 0.4548435851370234\n",
      "labor\n",
      "0 2104 29326 0.07174520902952798\n",
      "1 1495 29326 0.050978653754345744\n",
      "2 1471 29326 0.05016026733956031\n",
      "3 1046 29326 0.03566800791106828\n",
      "4 965 29326 0.03290595376116744\n",
      "5 942 29326 0.032121666780331404\n",
      "6 848 29326 0.02891631998908822\n",
      "7 830 29326 0.028302530177999084\n",
      "8 590 29326 0.020118666030143926\n",
      "9 470 29326 0.016026733956216347\n",
      "10 28 29326 0.000954784150583101\n",
      "11 62 29326 0.0021141649048625815\n",
      "12 30 29326 0.0010229830184818938\n",
      "13 21 29326 0.0007160881129373255\n",
      "14 16 29326 0.0005455909431903431\n",
      "15 37 29326 0.0012616790561276693\n",
      "16 3 29326 0.00010229830184818934\n",
      "17 38 29326 0.0012957784900770658\n",
      "18 15 29326 0.0005114915092409466\n",
      "19 26 29326 0.000886585282684308\n",
      "\n",
      "8285 29326 0.2825138102707495\n",
      "loan\n",
      "0 2141 19102 0.11208250444979793\n",
      "1 1566 19102 0.08198094440372722\n",
      "2 1614 19102 0.08449377028583399\n",
      "3 1518 19102 0.07946811852162045\n",
      "4 1598 19102 0.08365616165846507\n",
      "5 1343 19102 0.07030677415977284\n",
      "6 1150 19102 0.060203120092135486\n",
      "7 1152 19102 0.06030782117055659\n",
      "8 1327 19102 0.06946916553240391\n",
      "9 1029 19102 0.053868704847658835\n",
      "10 93 19102 0.004868600146581518\n",
      "11 27 19102 0.0014134645586849545\n",
      "12 32 19102 0.0016752172547377239\n",
      "13 26 19102 0.0013611140194744007\n",
      "14 49 19102 0.0025651764213171398\n",
      "15 38 19102 0.0019893204900010473\n",
      "16 15 19102 0.0007852580881583081\n",
      "17 33 19102 0.0017275677939482777\n",
      "18 16 19102 0.0008376086273688619\n",
      "19 12 19102 0.0006282064705266465\n",
      "\n",
      "7648 19102 0.400376923882316\n"
     ]
    }
   ],
   "source": [
    "#统计各类数据中对于每个标签含有该标签的数据个数和所占比例\n",
    "for i in range(1,4):\n",
    "    print(data_input[i].split('/')[0])\n",
    "    _,Y = constructDataSet(data_input[i],i)\n",
    "    count = 0\n",
    "    for j in range(len(Y)):\n",
    "        print(j,sum(Y[j]),len(Y[j]),sum(Y[j]/len(Y[j])))\n",
    "    print()\n",
    "    Y = np.array(Y).transpose()\n",
    "    for labels in Y:\n",
    "        if np.sum(labels)>0:\n",
    "            count+=1\n",
    "    print(count,len(Y),count/len(Y))"
   ]
  },
  {
   "cell_type": "code",
   "execution_count": 12,
   "metadata": {},
   "outputs": [
    {
     "name": "stderr",
     "output_type": "stream",
     "text": [
      "Building prefix dict from the default dictionary ...\n",
      "Loading model from cache /tmp/jieba.cache\n"
     ]
    },
    {
     "name": "stdout",
     "output_type": "stream",
     "text": [
      "divorce\n"
     ]
    },
    {
     "name": "stderr",
     "output_type": "stream",
     "text": [
      "Loading model cost 0.922 seconds.\n",
      "Prefix dict has been built succesfully.\n"
     ]
    },
    {
     "name": "stdout",
     "output_type": "stream",
     "text": [
      "divorce/6.model\n",
      "divorce/6.model 0.9622659443018724\n",
      "divorce/17.model\n",
      "divorce/17.model 0.9972436080220511\n",
      "divorce/20.model\n",
      "divorce/20.model 0.993821880049425\n",
      "divorce/10.model\n",
      "divorce/10.model 0.9724360802205113\n",
      "divorce/5.model\n",
      "divorce/5.model 0.956943256344454\n",
      "divorce/16.model\n",
      "divorce/16.model 0.9937268320501853\n",
      "divorce/4.model\n",
      "divorce/4.model 0.9446820644425434\n",
      "divorce/14.model\n",
      "divorce/14.model 0.9901150080790799\n",
      "divorce/9.model\n",
      "divorce/9.model 0.9703450242372398\n",
      "divorce/12.model\n",
      "divorce/12.model 0.9837467921300257\n",
      "divorce/3.model\n",
      "divorce/3.model 0.9073282007413744\n",
      "divorce/8.model\n",
      "divorce/8.model 0.9686341602509267\n",
      "divorce/1.model\n",
      "divorce/1.model 0.8388936412888509\n",
      "divorce/15.model\n",
      "divorce/15.model 0.993821880049425\n",
      "divorce/7.model\n",
      "divorce/7.model 0.9688242562494059\n",
      "divorce/11.model\n",
      "divorce/11.model 0.9906852960745176\n",
      "divorce/19.model\n",
      "divorce/19.model 0.9936317840509458\n",
      "divorce/18.model\n",
      "divorce/18.model 0.9937268320501853\n",
      "divorce/2.model\n",
      "divorce/2.model 0.8928809048569527\n",
      "divorce/13.model\n",
      "divorce/13.model 0.9851725121186199\n",
      "labor\n",
      "labor/12.model\n",
      "labor/12.model 0.9980677426687884\n",
      "labor/19.model\n",
      "labor/19.model 0.9993180268242783\n",
      "labor/10.model\n",
      "labor/10.model 0.9831779949988634\n",
      "labor/4.model\n",
      "labor/4.model 0.9653330302341441\n",
      "labor/6.model\n",
      "labor/6.model 0.9715844510115935\n",
      "labor/2.model\n",
      "labor/2.model 0.9463514435098886\n",
      "labor/13.model\n",
      "labor/13.model 0.999090702432371\n",
      "labor/3.model\n",
      "labor/3.model 0.9726074107751762\n",
      "labor/5.model\n",
      "labor/5.model 0.9661286656058196\n",
      "labor/1.model\n",
      "labor/1.model 0.9406683337122074\n",
      "labor/20.model\n",
      "labor/20.model 0.9989770402364173\n",
      "labor/7.model\n",
      "labor/7.model 0.9705614912480109\n",
      "labor/18.model\n",
      "labor/18.model 0.9982950670606956\n",
      "labor/8.model\n",
      "labor/8.model 0.9694248692884746\n",
      "labor/14.model\n",
      "labor/14.model 0.9992043646283246\n",
      "labor/16.model\n",
      "labor/16.model 0.9982950670606956\n",
      "labor/17.model\n",
      "labor/17.model 1.0\n",
      "labor/9.model\n",
      "labor/9.model 0.9828370084110025\n",
      "labor/11.model\n",
      "labor/11.model 0.9993180268242783\n",
      "labor/15.model\n",
      "labor/15.model 0.9995453512161855\n",
      "loan\n",
      "loan/1.model\n",
      "loan/1.model 0.9354388413889374\n",
      "loan/4.model\n",
      "loan/4.model 0.9413714883964404\n",
      "loan/18.model\n",
      "loan/18.model 0.9982551038213227\n",
      "loan/15.model\n",
      "loan/15.model 0.9972081661141162\n",
      "loan/11.model\n",
      "loan/11.model 0.9947653114639678\n",
      "loan/12.model\n",
      "loan/12.model 0.9984295934391904\n",
      "loan/9.model\n",
      "loan/9.model 0.9544582097365206\n",
      "loan/19.model\n",
      "loan/19.model 0.9994765311463968\n",
      "loan/6.model\n",
      "loan/6.model 0.9319490490315826\n",
      "loan/16.model\n",
      "loan/16.model 0.9980806142034548\n",
      "loan/14.model\n",
      "loan/14.model 0.9986040830570581\n",
      "loan/10.model\n",
      "loan/10.model 0.9799336939452102\n",
      "loan/5.model\n",
      "loan/5.model 0.9448612807537952\n",
      "loan/7.model\n",
      "loan/7.model 0.9626592217763044\n",
      "loan/20.model\n",
      "loan/20.model 0.9991275519106613\n",
      "loan/8.model\n",
      "loan/8.model 0.9666724829872623\n",
      "loan/2.model\n",
      "loan/2.model 0.941022509160705\n",
      "loan/3.model\n",
      "loan/3.model 0.9441633222823242\n",
      "loan/17.model\n",
      "loan/17.model 0.9986040830570581\n",
      "loan/13.model\n",
      "loan/13.model 0.9986040830570581\n"
     ]
    }
   ],
   "source": [
    "beginTrain()"
   ]
  }
 ],
 "metadata": {
  "kernelspec": {
   "display_name": "Python 3",
   "language": "python",
   "name": "python3"
  },
  "language_info": {
   "codemirror_mode": {
    "name": "ipython",
    "version": 3
   },
   "file_extension": ".py",
   "mimetype": "text/x-python",
   "name": "python",
   "nbconvert_exporter": "python",
   "pygments_lexer": "ipython3",
   "version": "3.6.8"
  }
 },
 "nbformat": 4,
 "nbformat_minor": 2
}
