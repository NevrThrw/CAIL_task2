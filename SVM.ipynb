{
 "cells": [
  {
   "cell_type": "code",
   "execution_count": 1,
   "metadata": {
    "pycharm": {}
   },
   "outputs": [
    {
     "name": "stderr",
     "output_type": "stream",
     "text": [
      "D:\\Anaconda3\\lib\\site-packages\\gensim\\utils.py:1197: UserWarning: detected Windows; aliasing chunkize to chunkize_serial\n",
      "  warnings.warn(\"detected Windows; aliasing chunkize to chunkize_serial\")\n"
     ]
    }
   ],
   "source": [
    "from sklearn.svm import SVC\n",
    "from gensim.models.doc2vec import Doc2Vec\n",
    "import re\n",
    "import jieba\n",
    "import numpy as np\n",
    "from sklearn.model_selection import train_test_split\n",
    "from sklearn.externals import joblib \n",
    "import random"
   ]
  },
  {
   "cell_type": "code",
   "execution_count": 2,
   "metadata": {
    "pycharm": {
     "is_executing": false
    }
   },
   "outputs": [],
   "source": [
    "divorce_model=Doc2Vec.load(\"divorce/divorce.model\")\n",
    "loan_model=Doc2Vec.load(\"loan/loan.model\")\n",
    "labor_model=Doc2Vec.load(\"labor/labor.model\")"
   ]
  },
  {
   "cell_type": "code",
   "execution_count": 3,
   "metadata": {
    "pycharm": {
     "is_executing": true
    }
   },
   "outputs": [],
   "source": [
    "data_input = {1: \"divorce/data.txt\", 2: \"labor/data.txt\", 3: \"loan/data.txt\"}\n",
    "models={1:divorce_model,2:loan_model,3:labor_model}\n",
    "data_type = {1: \"divorce\", 2: \"labor\", 3: \"loan\"}\n",
    "label_size = 20\n",
    "test_ratio = 0.3\n",
    "punction = \"！？。＂＃＄％＆＇（）＊＋，－／：；＜＝＞＠［＼］＾＿｀｛｜｝～｟｠｢｣､、〃》「」『』【】〔〕〖〗〘〙〚〛〜〝〞〟〰〾〿–—‘’‛“”„‟…‧﹏.\""
   ]
  },
  {
   "cell_type": "code",
   "execution_count": 9,
   "metadata": {
    "pycharm": {}
   },
   "outputs": [],
   "source": [
    "def line_processing(line):  # 提取每行数据的文本内容\n",
    "    line = line.strip().split('\\t')\n",
    "    sentence = line[1]\n",
    "    sentence = re.sub(r'[{}]'.format(punction),' ',sentence).split(' ')\n",
    "    sent=[]\n",
    "    for sub_sentence in sentence:\n",
    "        if sub_sentence!='':\n",
    "            sent.extend(list(jieba.cut(sub_sentence)))\n",
    "    return line[0], sent, line[2]"
   ]
  },
  {
   "cell_type": "code",
   "execution_count": 10,
   "metadata": {
    "pycharm": {}
   },
   "outputs": [],
   "source": [
    "def constructDataSet(data_path,model_tag): #构建X，Y的数据集\n",
    "    data_file = open(data_path,'r',encoding='utf-8')\n",
    "    lines = data_file.read().splitlines()\n",
    "    X=[]\n",
    "    Y=[]\n",
    "    d2v = models[model_tag]\n",
    "    for line in lines:\n",
    "        _,x,y = line_processing(line)\n",
    "        x=d2v.infer_vector(x)\n",
    "        X.append(x)\n",
    "        y = list(map(int,y.split()))\n",
    "        Y.append(y)\n",
    "    Y = np.array(Y).transpose()\n",
    "    return X,Y"
   ]
  },
  {
   "cell_type": "code",
   "execution_count": 11,
   "metadata": {
    "pycharm": {}
   },
   "outputs": [],
   "source": [
    "def splitDataSet(X,Y): #构建训练集和测试集\n",
    "    X_train,X_test,Y_train,Y_test =  train_test_split(X,Y,test_size=test_ratio,shuffle=True)\n",
    "    return X_train,X_test,Y_train,Y_test"
   ]
  },
  {
   "cell_type": "code",
   "execution_count": 12,
   "metadata": {
    "pycharm": {}
   },
   "outputs": [],
   "source": [
    "def trainSVM(X,Y,model_path): #训练单个分类器\n",
    "    X_train,X_test,Y_train,Y_test = splitDataSet(X,Y)\n",
    "    classifier = SVC(gamma='auto')\n",
    "    classifier.fit(X_train,Y_train)\n",
    "    accuracy = classifier.score(X_test,Y_test)\n",
    "    joblib.dump(classifier,model_path)\n",
    "    print(model_path,accuracy)"
   ]
  },
  {
   "cell_type": "code",
   "execution_count": 13,
   "metadata": {
    "pycharm": {}
   },
   "outputs": [],
   "source": [
    "def beginTrain():\n",
    "    for i in range(1,4):\n",
    "        print(data_input[i].split(\"/\")[0])\n",
    "        X,Y = constructDataSet(data_input[i],i)\n",
    "        tag = list(range(len(Y)))\n",
    "        random.shuffle(tag)\n",
    "        for j in tag:\n",
    "            model_path = data_input[i].split(\"/\")[0]+'/label'+str(j+1)+\".model\"\n",
    "            print(model_path)\n",
    "            trainSVM(X,Y[j],model_path)"
   ]
  },
  {
   "cell_type": "code",
   "execution_count": 14,
   "metadata": {
    "pycharm": {}
   },
   "outputs": [],
   "source": [
    "def predictSingleLabel(x,model_type,label_tag):\n",
    "    model_path = model_type+'/'+'label'+str(label_tag+1)+'.model'\n",
    "    model = joblib.load(model_path)\n",
    "    return model.predict([x])"
   ]
  },
  {
   "cell_type": "code",
   "execution_count": 15,
   "metadata": {
    "pycharm": {}
   },
   "outputs": [],
   "source": [
    "def predict(text,model_type):\n",
    "    text = re.sub(r'[{}]'.format(punction),' ',text).split(' ')\n",
    "    words=[]\n",
    "    for word in text:\n",
    "        words.extend(list(jieba.cut(word)))\n",
    "    d2v = models[model_type]\n",
    "    x = d2v.infer_vector(words)\n",
    "    res=[]\n",
    "    for i in range(label_size):\n",
    "        res.append(predictSingleLabel(x,data_type[model_type],i)[0])\n",
    "    return res"
   ]
  },
  {
   "cell_type": "code",
   "execution_count": 16,
   "metadata": {},
   "outputs": [
    {
     "name": "stderr",
     "output_type": "stream",
     "text": [
      "Building prefix dict from the default dictionary ...\n",
      "Loading model from cache C:\\Users\\RPJ\\AppData\\Local\\Temp\\jieba.cache\n"
     ]
    },
    {
     "name": "stdout",
     "output_type": "stream",
     "text": [
      "divorce\n"
     ]
    },
    {
     "name": "stderr",
     "output_type": "stream",
     "text": [
      "Loading model cost 0.852 seconds.\n",
      "Prefix dict has been built succesfully.\n"
     ]
    },
    {
     "name": "stdout",
     "output_type": "stream",
     "text": [
      "divorce/label10.model\n",
      "divorce/label10.model 0.9704400722364794\n",
      "divorce/label12.model\n",
      "divorce/label12.model 0.9840319361277445\n",
      "divorce/label11.model\n",
      "divorce/label11.model 0.9884991920920064\n",
      "divorce/label6.model\n",
      "divorce/label6.model 0.9625510882995912\n",
      "divorce/label17.model\n",
      "divorce/label17.model 0.9963881760288946\n",
      "divorce/label8.model\n",
      "divorce/label8.model 0.9684440642524474\n",
      "divorce/label3.model\n",
      "divorce/label3.model 0.8966828248265374\n",
      "divorce/label20.model\n",
      "divorce/label20.model 0.9942971200456231\n",
      "divorce/label19.model\n",
      "divorce/label19.model 0.9940119760479041\n",
      "divorce/label9.model\n",
      "divorce/label9.model 0.9672084402623324\n",
      "divorce/label14.model\n",
      "divorce/label14.model 0.9907803440737573\n",
      "divorce/label5.model\n",
      "divorce/label5.model 0.9564680163482558\n",
      "divorce/label18.model\n",
      "divorce/label18.model 0.9944872160441023\n",
      "divorce/label13.model\n",
      "divorce/label13.model 0.9870734721034122\n",
      "divorce/label2.model\n",
      "divorce/label2.model 0.862370497101036\n",
      "divorce/label4.model\n",
      "divorce/label4.model 0.9449672084402624\n",
      "divorce/label16.model\n",
      "divorce/label16.model 0.9935367360517061\n",
      "divorce/label7.model\n",
      "divorce/label7.model 0.9640718562874252\n",
      "divorce/label15.model\n",
      "divorce/label15.model 0.993821880049425\n",
      "divorce/label1.model\n",
      "divorce/label1.model 0.7858568577131452\n",
      "labor\n",
      "labor/label5.model\n",
      "labor/label5.model 0.9672652875653558\n",
      "labor/label20.model\n",
      "labor/label20.model 0.999090702432371\n",
      "labor/label12.model\n",
      "labor/label12.model 0.9981814048647419\n",
      "labor/label2.model\n",
      "labor/label2.model 0.9495339849965901\n",
      "labor/label1.model\n",
      "labor/label1.model 0.9320300068197318\n",
      "labor/label6.model\n",
      "labor/label6.model 0.9687428961127529\n",
      "labor/label10.model\n",
      "labor/label10.model 0.9852239145260286\n",
      "labor/label17.model\n",
      "labor/label17.model 1.0\n",
      "labor/label19.model\n",
      "labor/label19.model 0.9995453512161855\n",
      "labor/label18.model\n",
      "labor/label18.model 0.9978404182768811\n",
      "labor/label4.model\n",
      "labor/label4.model 0.9630597863150716\n",
      "labor/label15.model\n",
      "labor/label15.model 0.9998863378040463\n",
      "labor/label9.model\n",
      "labor/label9.model 0.9793134803364401\n",
      "labor/label14.model\n",
      "labor/label14.model 0.999090702432371\n",
      "labor/label11.model\n",
      "labor/label11.model 0.9989770402364173\n",
      "labor/label8.model\n",
      "labor/label8.model 0.9731757217549443\n",
      "labor/label13.model\n",
      "labor/label13.model 0.9988633780404638\n",
      "labor/label3.model\n",
      "labor/label3.model 0.95078426915208\n",
      "labor/label16.model\n",
      "labor/label16.model 0.9979540804728347\n",
      "labor/label7.model\n",
      "labor/label7.model 0.9697658558763356\n",
      "loan\n",
      "loan/label13.model\n",
      "loan/label13.model 0.9987785726749259\n",
      "loan/label5.model\n",
      "loan/label5.model 0.9160704938056186\n",
      "loan/label1.model\n",
      "loan/label1.model 0.9082184610015704\n",
      "loan/label3.model\n",
      "loan/label3.model 0.9165939626592218\n",
      "loan/label12.model\n",
      "loan/label12.model 0.9989530622927936\n",
      "loan/label9.model\n",
      "loan/label9.model 0.9356133310068051\n",
      "loan/label17.model\n",
      "loan/label17.model 0.9998255103821323\n",
      "loan/label15.model\n",
      "loan/label15.model 0.9963357180247775\n",
      "loan/label10.model\n",
      "loan/label10.model 0.9596928982725528\n",
      "loan/label16.model\n",
      "loan/label16.model 0.9968591868783807\n",
      "loan/label20.model\n",
      "loan/label20.model 0.9989530622927936\n",
      "loan/label19.model\n",
      "loan/label19.model 0.9991275519106613\n",
      "loan/label6.model\n",
      "loan/label6.model 0.9333449659745245\n",
      "loan/label2.model\n",
      "loan/label2.model 0.9192113069272378\n",
      "loan/label8.model\n",
      "loan/label8.model 0.9385796545105566\n",
      "loan/label11.model\n",
      "loan/label11.model 0.9956377595533066\n",
      "loan/label14.model\n",
      "loan/label14.model 0.9986040830570581\n",
      "loan/label4.model\n",
      "loan/label4.model 0.9228755889024604\n",
      "loan/label7.model\n",
      "loan/label7.model 0.9417204676321759\n",
      "loan/label18.model\n",
      "loan/label18.model 0.9979061245855871\n"
     ]
    }
   ],
   "source": [
    "beginTrain()"
   ]
  }
 ],
 "metadata": {
  "kernelspec": {
   "display_name": "Python 3",
   "language": "python",
   "name": "python3"
  },
  "language_info": {
   "codemirror_mode": {
    "name": "ipython",
    "version": 3
   },
   "file_extension": ".py",
   "mimetype": "text/x-python",
   "name": "python",
   "nbconvert_exporter": "python",
   "pygments_lexer": "ipython3",
   "version": "3.6.8"
  }
 },
 "nbformat": 4,
 "nbformat_minor": 2
}
