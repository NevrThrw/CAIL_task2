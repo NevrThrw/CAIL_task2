{
 "cells": [
  {
   "cell_type": "code",
   "execution_count": 14,
   "metadata": {},
   "outputs": [],
   "source": [
    "import warnings\n",
    "\n",
    "warnings.filterwarnings(action='ignore', category=UserWarning, module='gensim')\n",
    "from gensim.models.doc2vec import Doc2Vec, TaggedDocument\n",
    "import jieba\n",
    "from gensim.test.utils import get_tmpfile\n",
    "import re"
   ]
  },
  {
   "cell_type": "code",
   "execution_count": 15,
   "metadata": {},
   "outputs": [],
   "source": [
    "data_input = {1: \"divorce/data.txt\", 2: \"labor/data.txt\", 3: \"loan/data.txt\"}\n",
    "doc2vec_model_path = {1: \"divorce/divorce.model\", 2: \"labor/labor.model\", 3: \"loan/loan.model\"}\n",
    "punction = \"！？。＂＃＄％＆＇.（）＊＋，－／：；＜＝＞＠［＼］＾＿｀｛｜｝～｟｠｢｣､、〃》「」『』【】〔〕〖〗〘〙〚〛〜〝〞〟〰〾〿–—‘’‛“”„‟…‧﹏.\""
   ]
  },
  {
   "cell_type": "code",
   "execution_count": 16,
   "metadata": {},
   "outputs": [],
   "source": [
    "def line_processing(line):  # 提取每行数据的文本内容\n",
    "    line = line.strip().split('\\t')\n",
    "    sentence = line[1]\n",
    "    sentence = re.sub(r'[{}]'.format(punction),' ',sentence).split(' ')\n",
    "    sent=[]\n",
    "    for sub_sentence in sentence:\n",
    "        if sub_sentence!='':\n",
    "            sent.extend(list(jieba.cut(sub_sentence)))\n",
    "    return line[0], sent, line[2]\n",
    "\n",
    "\n",
    "def corpusConstruct(data_path):  # 构建Doc2Vec训练集\n",
    "    Corpus = []\n",
    "    data = open(data_path, 'r',encoding='utf-8')\n",
    "    for line in data.read().splitlines():\n",
    "        tag, content, _ = line_processing(line)\n",
    "        Corpus.append(TaggedDocument(content, [int(tag)]))\n",
    "    return Corpus"
   ]
  },
  {
   "cell_type": "code",
   "execution_count": 17,
   "metadata": {},
   "outputs": [],
   "source": [
    "def train(data_path, model_path):  # 训练模型\n",
    "    train_text = corpusConstruct(data_path)\n",
    "    model = Doc2Vec(vector_size=64, min_count=2, epochs=40)\n",
    "    model.build_vocab(train_text)\n",
    "    model.train(train_text, total_examples=model.corpus_count, epochs=model.epochs)\n",
    "    model.save(model_path)"
   ]
  },
  {
   "cell_type": "code",
   "execution_count": 19,
   "metadata": {},
   "outputs": [],
   "source": [
    "def main():\n",
    "    for i in range(1, 4):\n",
    "        print(i)\n",
    "        train(data_input[i], doc2vec_model_path[i])"
   ]
  },
  {
   "cell_type": "code",
   "execution_count": 20,
   "metadata": {},
   "outputs": [
    {
     "name": "stdout",
     "output_type": "stream",
     "text": [
      "1\n",
      "2\n",
      "3\n"
     ]
    }
   ],
   "source": [
    "main()"
   ]
  },
  {
   "cell_type": "code",
   "execution_count": null,
   "metadata": {},
   "outputs": [],
   "source": []
  }
 ],
 "metadata": {
  "kernelspec": {
   "display_name": "Python 3",
   "language": "python",
   "name": "python3"
  },
  "language_info": {
   "codemirror_mode": {
    "name": "ipython",
    "version": 3
   },
   "file_extension": ".py",
   "mimetype": "text/x-python",
   "name": "python",
   "nbconvert_exporter": "python",
   "pygments_lexer": "ipython3",
   "version": "3.6.8"
  }
 },
 "nbformat": 4,
 "nbformat_minor": 2
}
